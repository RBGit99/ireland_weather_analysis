{
 "cells": [
  {
   "cell_type": "code",
   "execution_count": 57,
   "metadata": {},
   "outputs": [],
   "source": [
    "import arcpy\n",
    "import os\n",
    "import pandas as pd\n",
    "import numpy as np"
   ]
  },
  {
   "cell_type": "code",
   "execution_count": 75,
   "metadata": {},
   "outputs": [],
   "source": [
    "# Get the project root (two levels up from notebook location)\n",
    "project_root = os.path.dirname(os.path.dirname(os.getcwd())) \n",
    "\n",
    "# Set paths using relative structure\n",
    "gdb_path = os.path.join(project_root, \"WebGisProject\", \"MyProject8\", \"MyProject8.gdb\")\n",
    "county_shapefile = os.path.join(project_root, \"Data\", \"counties\",\"Counties_-_OSi_National_Statutory_Boundaries_-_2019\", \"Counties___OSi_National_Statutory_Boundaries_.shp\")\n",
    "weather_csv = os.path.join(project_root,\"Data\", \"county_weather.csv\") \n",
    "yearly_weather_csv = os.path.join(project_root,\"Data\", \"county_yearly_weather.csv\") \n",
    "counties_with_weather=os.path.join(project_root,\"Data\", \"counties_with_weather\") "
   ]
  },
  {
   "cell_type": "code",
   "execution_count": 76,
   "metadata": {},
   "outputs": [
    {
     "name": "stdout",
     "output_type": "stream",
     "text": [
      "Absolute path: C:\\Users\\asus\\Desktop\\Project\\Data\\county_weather.csv\n",
      "Absolute path: C:\\Users\\asus\\Desktop\\Project\\Data\\county_yearly_weather.csv\n",
      "Absolute path: C:\\Users\\asus\\Desktop\\Project\\Data\\counties_with_weather\n"
     ]
    }
   ],
   "source": [
    "print(f\"Absolute path: {os.path.abspath(weather_csv)}\")\n",
    "print(f\"Absolute path: {os.path.abspath(yearly_weather_csv)}\")\n",
    "print(f\"Absolute path: {os.path.abspath(counties_with_weather)}\")"
   ]
  },
  {
   "cell_type": "code",
   "execution_count": 37,
   "metadata": {},
   "outputs": [
    {
     "data": {
      "text/html": [
       "<div>\n",
       "<style scoped>\n",
       "    .dataframe tbody tr th:only-of-type {\n",
       "        vertical-align: middle;\n",
       "    }\n",
       "\n",
       "    .dataframe tbody tr th {\n",
       "        vertical-align: top;\n",
       "    }\n",
       "\n",
       "    .dataframe thead th {\n",
       "        text-align: right;\n",
       "    }\n",
       "</style>\n",
       "<table border=\"1\" class=\"dataframe\">\n",
       "  <thead>\n",
       "    <tr style=\"text-align: right;\">\n",
       "      <th></th>\n",
       "      <th>COUNTY</th>\n",
       "      <th>Year</th>\n",
       "      <th>Avg_rain(mm)</th>\n",
       "      <th>Avg_temp (C)</th>\n",
       "      <th>Avg_wind(knots)</th>\n",
       "    </tr>\n",
       "  </thead>\n",
       "  <tbody>\n",
       "    <tr>\n",
       "      <th>0</th>\n",
       "      <td>CARLOW</td>\n",
       "      <td>2020-2024</td>\n",
       "      <td>82.47</td>\n",
       "      <td>10.59</td>\n",
       "      <td>7.37</td>\n",
       "    </tr>\n",
       "    <tr>\n",
       "      <th>1</th>\n",
       "      <td>CAVAN</td>\n",
       "      <td>2020-2024</td>\n",
       "      <td>105.91</td>\n",
       "      <td>9.97</td>\n",
       "      <td>5.94</td>\n",
       "    </tr>\n",
       "    <tr>\n",
       "      <th>2</th>\n",
       "      <td>CLARE</td>\n",
       "      <td>2020-2024</td>\n",
       "      <td>115.94</td>\n",
       "      <td>11.08</td>\n",
       "      <td>8.51</td>\n",
       "    </tr>\n",
       "    <tr>\n",
       "      <th>3</th>\n",
       "      <td>CORK</td>\n",
       "      <td>2020-2024</td>\n",
       "      <td>121.08</td>\n",
       "      <td>0.00</td>\n",
       "      <td>0.00</td>\n",
       "    </tr>\n",
       "    <tr>\n",
       "      <th>4</th>\n",
       "      <td>DONEGAL</td>\n",
       "      <td>2020-2024</td>\n",
       "      <td>131.27</td>\n",
       "      <td>10.42</td>\n",
       "      <td>10.15</td>\n",
       "    </tr>\n",
       "  </tbody>\n",
       "</table>\n",
       "</div>"
      ],
      "text/plain": [
       "    COUNTY       Year  Avg_rain(mm)  Avg_temp (C)  Avg_wind(knots)\n",
       "0   CARLOW  2020-2024         82.47         10.59             7.37\n",
       "1    CAVAN  2020-2024        105.91          9.97             5.94\n",
       "2    CLARE  2020-2024        115.94         11.08             8.51\n",
       "3     CORK  2020-2024        121.08          0.00             0.00\n",
       "4  DONEGAL  2020-2024        131.27         10.42            10.15"
      ]
     },
     "execution_count": 37,
     "metadata": {},
     "output_type": "execute_result"
    }
   ],
   "source": [
    "#Reading and dispalying weather_csv table\n",
    "df_weather = pd.read_csv(weather_csv)\n",
    "df_weather.head()"
   ]
  },
  {
   "cell_type": "code",
   "execution_count": 38,
   "metadata": {},
   "outputs": [
    {
     "data": {
      "text/html": [
       "<div>\n",
       "<style scoped>\n",
       "    .dataframe tbody tr th:only-of-type {\n",
       "        vertical-align: middle;\n",
       "    }\n",
       "\n",
       "    .dataframe tbody tr th {\n",
       "        vertical-align: top;\n",
       "    }\n",
       "\n",
       "    .dataframe thead th {\n",
       "        text-align: right;\n",
       "    }\n",
       "</style>\n",
       "<table border=\"1\" class=\"dataframe\">\n",
       "  <thead>\n",
       "    <tr style=\"text-align: right;\">\n",
       "      <th></th>\n",
       "      <th>COUNTY</th>\n",
       "      <th>Year</th>\n",
       "      <th>Avg_rain(mm)</th>\n",
       "      <th>Avg_temp (C)</th>\n",
       "      <th>Avg_wind(knots)</th>\n",
       "    </tr>\n",
       "  </thead>\n",
       "  <tbody>\n",
       "    <tr>\n",
       "      <th>0</th>\n",
       "      <td>CARLOW</td>\n",
       "      <td>2020</td>\n",
       "      <td>82.361667</td>\n",
       "      <td>10.258333</td>\n",
       "      <td>8.033333</td>\n",
       "    </tr>\n",
       "    <tr>\n",
       "      <th>1</th>\n",
       "      <td>CARLOW</td>\n",
       "      <td>2021</td>\n",
       "      <td>78.605000</td>\n",
       "      <td>10.366667</td>\n",
       "      <td>6.916667</td>\n",
       "    </tr>\n",
       "    <tr>\n",
       "      <th>2</th>\n",
       "      <td>CARLOW</td>\n",
       "      <td>2022</td>\n",
       "      <td>82.992593</td>\n",
       "      <td>10.633333</td>\n",
       "      <td>7.275000</td>\n",
       "    </tr>\n",
       "    <tr>\n",
       "      <th>3</th>\n",
       "      <td>CARLOW</td>\n",
       "      <td>2023</td>\n",
       "      <td>93.320833</td>\n",
       "      <td>11.141667</td>\n",
       "      <td>7.400000</td>\n",
       "    </tr>\n",
       "    <tr>\n",
       "      <th>4</th>\n",
       "      <td>CARLOW</td>\n",
       "      <td>2024</td>\n",
       "      <td>75.085106</td>\n",
       "      <td>10.541667</td>\n",
       "      <td>7.216667</td>\n",
       "    </tr>\n",
       "  </tbody>\n",
       "</table>\n",
       "</div>"
      ],
      "text/plain": [
       "   COUNTY  Year  Avg_rain(mm)  Avg_temp (C)  Avg_wind(knots)\n",
       "0  CARLOW  2020     82.361667     10.258333         8.033333\n",
       "1  CARLOW  2021     78.605000     10.366667         6.916667\n",
       "2  CARLOW  2022     82.992593     10.633333         7.275000\n",
       "3  CARLOW  2023     93.320833     11.141667         7.400000\n",
       "4  CARLOW  2024     75.085106     10.541667         7.216667"
      ]
     },
     "execution_count": 38,
     "metadata": {},
     "output_type": "execute_result"
    }
   ],
   "source": [
    "#Reading and dispalying yearly_weather_csv table\n",
    "df_year_weather = pd.read_csv(yearly_weather_csv)\n",
    "df_year_weather.head()"
   ]
  },
  {
   "cell_type": "code",
   "execution_count": 40,
   "metadata": {},
   "outputs": [],
   "source": [
    "# Set workspace\n",
    "arcpy.env.workspace = gdb_path"
   ]
  },
  {
   "cell_type": "code",
   "execution_count": 41,
   "metadata": {},
   "outputs": [
    {
     "name": "stdout",
     "output_type": "stream",
     "text": [
      "Shapefile path: C:\\Users\\asus\\Desktop\\Project\\Data\\counties\\Counties_-_OSi_National_Statutory_Boundaries_-_2019\\Counties___OSi_National_Statutory_Boundaries_.shp\n",
      "CSV path: C:\\Users\\asus\\Desktop\\Project\\Data\\county_weather.csv\n",
      "Shapefile exists: True\n",
      "CSV exists: True\n"
     ]
    }
   ],
   "source": [
    "# Verify paths\n",
    "print(f\"Shapefile path: {county_shapefile}\")\n",
    "print(f\"CSV path: {weather_csv}\")\n",
    "print(f\"Shapefile exists: {os.path.exists(county_shapefile)}\")\n",
    "print(f\"CSV exists: {os.path.exists(weather_csv)}\")\n"
   ]
  },
  {
   "cell_type": "code",
   "execution_count": 44,
   "metadata": {},
   "outputs": [
    {
     "data": {
      "text/html": [
       "<div class='gpresult'><h2>Messages</h2><div id='messages' data-messages='[\"Start Time: 23 April 2025 00:17:34\",\"Succeeded at 23 April 2025 00:17:34 (Elapsed Time: 0.52 seconds)\"]' data-show='true'><div id = 'default' /></div></div>"
      ],
      "text/plain": [
       "<Result 'C:\\\\Users\\\\asus\\\\Desktop\\\\Project\\\\WebGisProject\\\\MyProject8\\\\MyProject8.gdb\\\\yearly_weather_table'>"
      ]
     },
     "execution_count": 44,
     "metadata": {},
     "output_type": "execute_result"
    }
   ],
   "source": [
    "# 3. Convert CSVs to geodatabase tables\n",
    "weather_table = \"weather_table\"\n",
    "yearly_weather_table=\"yearly_weather_table\"\n",
    "arcpy.TableToTable_conversion(weather_csv, gdb_path, weather_table)\n",
    "arcpy.TableToTable_conversion(yearly_weather_csv, gdb_path, yearly_weather_table)\n"
   ]
  },
  {
   "cell_type": "code",
   "execution_count": null,
   "metadata": {},
   "outputs": [],
   "source": [
    "#JOINING WEATHER_TABLE (CONTAINS FIVE-YEAR AVERAGE RAIN, WIND AND TEMPERATURE DATA FROM 2020-2021 ) TO COUNTIES\n",
    "# Set variables\n",
    "county_fc = \"Counties___OSi_National_Statutory_Boundaries_\"  \n",
    "output_fc = \"Counties_with_Weather\"  \n",
    "weather_table = \"weather_table\"\n",
    "fields_to_join = [\"Year\", \"Avg_rain_mm_\", \"Avg_temp__C_\", \"Avg_wind_knots_\"]\n",
    "\n",
    "# 2. Create a clean copy (preserves original)\n",
    "arcpy.CopyFeatures_management(county_fc, output_fc)\n",
    "\n",
    "# Perform join\n",
    "arcpy.management.JoinField(\n",
    "    in_data=county_fc,\n",
    "    in_field=\"COUNTY\",               \n",
    "    join_table=weather_table,        \n",
    "    join_field=\"COUNTY\",             \n",
    "    fields=[\"Year\", \"Avg_rain_mm_\", \"Avg_temp__C_\", \"Avg_wind_knots_\"] \n",
    ")\n",
    "\n",
    "print(f\"Join complete. Output: {output_fc}\")"
   ]
  },
  {
   "cell_type": "code",
   "execution_count": null,
   "metadata": {},
   "outputs": [],
   "source": [
    "print(f\"Absolute path: {os.path.abspath(output_fc)}\")"
   ]
  },
  {
   "cell_type": "code",
   "execution_count": 86,
   "metadata": {},
   "outputs": [
    {
     "data": {
      "text/html": [
       "<div class='gpresult'><h2>Messages</h2><div id='messages' data-messages='[\"Start Time: 23 April 2025 12:20:38\",\"Succeeded at 23 April 2025 12:20:40 (Elapsed Time: 1.25 seconds)\"]' data-show='true'><div id = 'default' /></div></div>"
      ],
      "text/plain": [
       "<Result 'true'>"
      ]
     },
     "execution_count": 86,
     "metadata": {},
     "output_type": "execute_result"
    }
   ],
   "source": [
    "#CREATING YEARLY WEATHER TABLE (CONTAINS YEARLY AVERAGRE(2020,2021,2022,2023,2024) RAIN, WIND AND TEMPERATURE DATA )\n",
    "# Set variables\n",
    "county_fc = \"Counties___OSi_National_Statutory_Boundaries_\" \n",
    "output_fc = \"Counties_avg_temp\"  \n",
    "weather_table = \"yearly_weather_table\"  \n",
    "join_field = \"COUNTY\"  \n",
    "fields_to_join = [\"Year\", \"Avg_temp__C_\"]  \n",
    "\n",
    "# 1. Create a clean copy of the original counties\n",
    "arcpy.CopyFeatures_management(county_fc, output_fc)\n",
    "\n",
    "# 2. Check if output exists and delete if needed\n",
    "if arcpy.Exists(output_fc):\n",
    "    arcpy.Delete_management(output_fc)\n",
    "arcpy.CopyFeatures_management(county_fc, output_fc)\n",
    "\n",
    "# 3. Use MakeQueryTable to preserve all matching records\n",
    "query_table = \"in_memory/weather_join\"\n",
    "arcpy.MakeQueryTable_management(\n",
    "    [output_fc, weather_table],\n",
    "    query_table,\n",
    "    \"USE_KEY_FIELDS\",\n",
    "    where_clause=f\"{output_fc}.{join_field} = {weather_table}.{join_field}\"\n",
    ")\n",
    "\n",
    "# 4. Export the result to preserve all records\n",
    "final_output = \"Counties_with_all_years\"\n",
    "arcpy.CopyFeatures_management(query_table, final_output)\n",
    "\n",
    "# 5. Clean up\n",
    "arcpy.Delete_management(\"in_memory/weather_join\")"
   ]
  },
  {
   "cell_type": "code",
   "execution_count": 71,
   "metadata": {},
   "outputs": [
    {
     "data": {
      "text/html": [
       "<div>\n",
       "<style scoped>\n",
       "    .dataframe tbody tr th:only-of-type {\n",
       "        vertical-align: middle;\n",
       "    }\n",
       "\n",
       "    .dataframe tbody tr th {\n",
       "        vertical-align: top;\n",
       "    }\n",
       "\n",
       "    .dataframe thead th {\n",
       "        text-align: right;\n",
       "    }\n",
       "</style>\n",
       "<table border=\"1\" class=\"dataframe\">\n",
       "  <thead>\n",
       "    <tr style=\"text-align: right;\">\n",
       "      <th></th>\n",
       "      <th>OBJECTID_1</th>\n",
       "      <th>OBJECTID</th>\n",
       "      <th>CO_ID</th>\n",
       "      <th>ENGLISH</th>\n",
       "      <th>GAEILGE</th>\n",
       "      <th>LOGAINM_ID</th>\n",
       "      <th>GUID</th>\n",
       "      <th>CONTAE</th>\n",
       "      <th>COUNTY</th>\n",
       "      <th>PROVINCE</th>\n",
       "      <th>CENTROID_X</th>\n",
       "      <th>CENTROID_Y</th>\n",
       "      <th>AREA</th>\n",
       "      <th>SHAPE_Leng</th>\n",
       "      <th>OBJECTID_12</th>\n",
       "      <th>COUNTY_1</th>\n",
       "      <th>Year</th>\n",
       "      <th>Avg_rain_mm_</th>\n",
       "      <th>Avg_temp__C_</th>\n",
       "      <th>Avg_wind_knots_</th>\n",
       "      <th>Shape_Length</th>\n",
       "      <th>Shape_Area</th>\n",
       "    </tr>\n",
       "  </thead>\n",
       "  <tbody>\n",
       "    <tr>\n",
       "      <th>0</th>\n",
       "      <td>1</td>\n",
       "      <td>1</td>\n",
       "      <td>50000</td>\n",
       "      <td>DONEGAL</td>\n",
       "      <td>Dún na nGall</td>\n",
       "      <td>100013</td>\n",
       "      <td>2ae19629-1452-13a3-e055-000000000001</td>\n",
       "      <td>Dún na nGall</td>\n",
       "      <td>DONEGAL</td>\n",
       "      <td>Ulster</td>\n",
       "      <td>607296.31</td>\n",
       "      <td>911848.45</td>\n",
       "      <td>4.860754e+09</td>\n",
       "      <td>1.859119e+06</td>\n",
       "      <td>25</td>\n",
       "      <td>DONEGAL</td>\n",
       "      <td>2020</td>\n",
       "      <td>154.058482</td>\n",
       "      <td>10.050000</td>\n",
       "      <td>11.008333</td>\n",
       "      <td>1.859119e+06</td>\n",
       "      <td>4.860754e+09</td>\n",
       "    </tr>\n",
       "    <tr>\n",
       "      <th>1</th>\n",
       "      <td>2</td>\n",
       "      <td>1</td>\n",
       "      <td>50000</td>\n",
       "      <td>DONEGAL</td>\n",
       "      <td>Dún na nGall</td>\n",
       "      <td>100013</td>\n",
       "      <td>2ae19629-1452-13a3-e055-000000000001</td>\n",
       "      <td>Dún na nGall</td>\n",
       "      <td>DONEGAL</td>\n",
       "      <td>Ulster</td>\n",
       "      <td>607296.31</td>\n",
       "      <td>911848.45</td>\n",
       "      <td>4.860754e+09</td>\n",
       "      <td>1.859119e+06</td>\n",
       "      <td>26</td>\n",
       "      <td>DONEGAL</td>\n",
       "      <td>2021</td>\n",
       "      <td>117.281991</td>\n",
       "      <td>10.250000</td>\n",
       "      <td>9.383333</td>\n",
       "      <td>1.859119e+06</td>\n",
       "      <td>4.860754e+09</td>\n",
       "    </tr>\n",
       "    <tr>\n",
       "      <th>2</th>\n",
       "      <td>3</td>\n",
       "      <td>1</td>\n",
       "      <td>50000</td>\n",
       "      <td>DONEGAL</td>\n",
       "      <td>Dún na nGall</td>\n",
       "      <td>100013</td>\n",
       "      <td>2ae19629-1452-13a3-e055-000000000001</td>\n",
       "      <td>Dún na nGall</td>\n",
       "      <td>DONEGAL</td>\n",
       "      <td>Ulster</td>\n",
       "      <td>607296.31</td>\n",
       "      <td>911848.45</td>\n",
       "      <td>4.860754e+09</td>\n",
       "      <td>1.859119e+06</td>\n",
       "      <td>27</td>\n",
       "      <td>DONEGAL</td>\n",
       "      <td>2022</td>\n",
       "      <td>124.872277</td>\n",
       "      <td>10.500000</td>\n",
       "      <td>10.275000</td>\n",
       "      <td>1.859119e+06</td>\n",
       "      <td>4.860754e+09</td>\n",
       "    </tr>\n",
       "    <tr>\n",
       "      <th>3</th>\n",
       "      <td>4</td>\n",
       "      <td>1</td>\n",
       "      <td>50000</td>\n",
       "      <td>DONEGAL</td>\n",
       "      <td>Dún na nGall</td>\n",
       "      <td>100013</td>\n",
       "      <td>2ae19629-1452-13a3-e055-000000000001</td>\n",
       "      <td>Dún na nGall</td>\n",
       "      <td>DONEGAL</td>\n",
       "      <td>Ulster</td>\n",
       "      <td>607296.31</td>\n",
       "      <td>911848.45</td>\n",
       "      <td>4.860754e+09</td>\n",
       "      <td>1.859119e+06</td>\n",
       "      <td>28</td>\n",
       "      <td>DONEGAL</td>\n",
       "      <td>2023</td>\n",
       "      <td>143.542786</td>\n",
       "      <td>10.958333</td>\n",
       "      <td>9.883333</td>\n",
       "      <td>1.859119e+06</td>\n",
       "      <td>4.860754e+09</td>\n",
       "    </tr>\n",
       "    <tr>\n",
       "      <th>4</th>\n",
       "      <td>5</td>\n",
       "      <td>1</td>\n",
       "      <td>50000</td>\n",
       "      <td>DONEGAL</td>\n",
       "      <td>Dún na nGall</td>\n",
       "      <td>100013</td>\n",
       "      <td>2ae19629-1452-13a3-e055-000000000001</td>\n",
       "      <td>Dún na nGall</td>\n",
       "      <td>DONEGAL</td>\n",
       "      <td>Ulster</td>\n",
       "      <td>607296.31</td>\n",
       "      <td>911848.45</td>\n",
       "      <td>4.860754e+09</td>\n",
       "      <td>1.859119e+06</td>\n",
       "      <td>29</td>\n",
       "      <td>DONEGAL</td>\n",
       "      <td>2024</td>\n",
       "      <td>116.608057</td>\n",
       "      <td>10.316667</td>\n",
       "      <td>10.208333</td>\n",
       "      <td>1.859119e+06</td>\n",
       "      <td>4.860754e+09</td>\n",
       "    </tr>\n",
       "  </tbody>\n",
       "</table>\n",
       "</div>"
      ],
      "text/plain": [
       "   OBJECTID_1  OBJECTID  CO_ID  ... Avg_wind_knots_  Shape_Length    Shape_Area\n",
       "0           1         1  50000  ...       11.008333  1.859119e+06  4.860754e+09\n",
       "1           2         1  50000  ...        9.383333  1.859119e+06  4.860754e+09\n",
       "2           3         1  50000  ...       10.275000  1.859119e+06  4.860754e+09\n",
       "3           4         1  50000  ...        9.883333  1.859119e+06  4.860754e+09\n",
       "4           5         1  50000  ...       10.208333  1.859119e+06  4.860754e+09\n",
       "\n",
       "[5 rows x 22 columns]"
      ]
     },
     "execution_count": 71,
     "metadata": {},
     "output_type": "execute_result"
    }
   ],
   "source": [
    "#READS AND DISPLAYS Counties_with_all_years average\n",
    "# Get field names first\n",
    "fields = [f.name for f in arcpy.ListFields(\"Counties_with_all_years\") if f.type != 'Geometry']\n",
    "# Read with column names\n",
    "pd.DataFrame(\n",
    "    [row for row in arcpy.da.SearchCursor(\"Counties_with_all_years\", fields)],\n",
    "    columns=fields\n",
    ").head()"
   ]
  },
  {
   "cell_type": "code",
   "execution_count": 87,
   "metadata": {},
   "outputs": [],
   "source": [
    "#REMOVES DUPLICATE COLUMNS AND SAVES ONLY SELECTED ONES\n",
    "# 1. First properly read the feature class into a DataFrame\n",
    "feature_class = \"Counties_with_all_years\"\n",
    "\n",
    "# Get all field names (excluding geometry)\n",
    "fields = [f.name for f in arcpy.ListFields(feature_class) if f.type != 'Geometry']\n",
    "\n",
    "# Create DataFrame from SearchCursor\n",
    "data = []\n",
    "with arcpy.da.SearchCursor(feature_class, fields) as cursor:\n",
    "    for row in cursor:\n",
    "        data.append(row)\n",
    "        \n",
    "df = pd.DataFrame(data, columns=fields)\n",
    "\n",
    "# 2. Now filter the columns\n",
    "keep_cols = [\n",
    "    'COUNTY', 'Year', 'Avg_temp__C_', 'Avg_rain_mm_', 'Avg_wind_knots_',\n",
    "    'CENTROID_X', 'CENTROID_Y', 'Shape_Area'\n",
    "]\n",
    "\n",
    "# Only keep columns that actually exist in the DataFrame\n",
    "available_cols = [col for col in keep_cols if col in df.columns]\n",
    "clean_df = df[available_cols]\n"
   ]
  },
  {
   "cell_type": "code",
   "execution_count": 88,
   "metadata": {},
   "outputs": [
    {
     "data": {
      "text/html": [
       "<div>\n",
       "<style scoped>\n",
       "    .dataframe tbody tr th:only-of-type {\n",
       "        vertical-align: middle;\n",
       "    }\n",
       "\n",
       "    .dataframe tbody tr th {\n",
       "        vertical-align: top;\n",
       "    }\n",
       "\n",
       "    .dataframe thead th {\n",
       "        text-align: right;\n",
       "    }\n",
       "</style>\n",
       "<table border=\"1\" class=\"dataframe\">\n",
       "  <thead>\n",
       "    <tr style=\"text-align: right;\">\n",
       "      <th></th>\n",
       "      <th>COUNTY</th>\n",
       "      <th>Year</th>\n",
       "      <th>Avg_temp__C_</th>\n",
       "      <th>Avg_rain_mm_</th>\n",
       "      <th>Avg_wind_knots_</th>\n",
       "      <th>CENTROID_X</th>\n",
       "      <th>CENTROID_Y</th>\n",
       "      <th>Shape_Area</th>\n",
       "    </tr>\n",
       "  </thead>\n",
       "  <tbody>\n",
       "    <tr>\n",
       "      <th>0</th>\n",
       "      <td>DONEGAL</td>\n",
       "      <td>2020</td>\n",
       "      <td>10.050000</td>\n",
       "      <td>154.058482</td>\n",
       "      <td>11.008333</td>\n",
       "      <td>607296.31</td>\n",
       "      <td>911848.45</td>\n",
       "      <td>4.860754e+09</td>\n",
       "    </tr>\n",
       "    <tr>\n",
       "      <th>1</th>\n",
       "      <td>DONEGAL</td>\n",
       "      <td>2021</td>\n",
       "      <td>10.250000</td>\n",
       "      <td>117.281991</td>\n",
       "      <td>9.383333</td>\n",
       "      <td>607296.31</td>\n",
       "      <td>911848.45</td>\n",
       "      <td>4.860754e+09</td>\n",
       "    </tr>\n",
       "    <tr>\n",
       "      <th>2</th>\n",
       "      <td>DONEGAL</td>\n",
       "      <td>2022</td>\n",
       "      <td>10.500000</td>\n",
       "      <td>124.872277</td>\n",
       "      <td>10.275000</td>\n",
       "      <td>607296.31</td>\n",
       "      <td>911848.45</td>\n",
       "      <td>4.860754e+09</td>\n",
       "    </tr>\n",
       "    <tr>\n",
       "      <th>3</th>\n",
       "      <td>DONEGAL</td>\n",
       "      <td>2023</td>\n",
       "      <td>10.958333</td>\n",
       "      <td>143.542786</td>\n",
       "      <td>9.883333</td>\n",
       "      <td>607296.31</td>\n",
       "      <td>911848.45</td>\n",
       "      <td>4.860754e+09</td>\n",
       "    </tr>\n",
       "    <tr>\n",
       "      <th>4</th>\n",
       "      <td>DONEGAL</td>\n",
       "      <td>2024</td>\n",
       "      <td>10.316667</td>\n",
       "      <td>116.608057</td>\n",
       "      <td>10.208333</td>\n",
       "      <td>607296.31</td>\n",
       "      <td>911848.45</td>\n",
       "      <td>4.860754e+09</td>\n",
       "    </tr>\n",
       "  </tbody>\n",
       "</table>\n",
       "</div>"
      ],
      "text/plain": [
       "    COUNTY  Year  Avg_temp__C_  ...  CENTROID_X  CENTROID_Y    Shape_Area\n",
       "0  DONEGAL  2020     10.050000  ...   607296.31   911848.45  4.860754e+09\n",
       "1  DONEGAL  2021     10.250000  ...   607296.31   911848.45  4.860754e+09\n",
       "2  DONEGAL  2022     10.500000  ...   607296.31   911848.45  4.860754e+09\n",
       "3  DONEGAL  2023     10.958333  ...   607296.31   911848.45  4.860754e+09\n",
       "4  DONEGAL  2024     10.316667  ...   607296.31   911848.45  4.860754e+09\n",
       "\n",
       "[5 rows x 8 columns]"
      ]
     },
     "execution_count": 88,
     "metadata": {},
     "output_type": "execute_result"
    }
   ],
   "source": [
    "clean_df.head()"
   ]
  },
  {
   "cell_type": "code",
   "execution_count": 89,
   "metadata": {},
   "outputs": [
    {
     "data": {
      "text/html": [
       "<div class='gpresult'><h2>Messages</h2><div id='messages' data-messages='[\"Start Time: 23 April 2025 12:22:29\",\"Succeeded at 23 April 2025 12:22:30 (Elapsed Time: 1.50 seconds)\"]' data-show='true'><div id = 'default' /></div></div>"
      ],
      "text/plain": [
       "<Result 'C:\\\\Users\\\\asus\\\\Desktop\\\\Project\\\\Data\\\\counties_with_weather\\\\counties_yearly_temp.shp'>"
      ]
     },
     "execution_count": 89,
     "metadata": {},
     "output_type": "execute_result"
    }
   ],
   "source": [
    "#Creating a county shapefile with yearly temperature from year 2020-2024\n",
    "# 1. creates a proper field mappings object\n",
    "field_mappings = arcpy.FieldMappings()\n",
    "\n",
    "# 2. Adds only the fields to keep\n",
    "fields_to_keep = [\"COUNTY\", \"Year\", \"CENTROID_X\", \"CENTROID_Y\", \"Shape_Area\",\"Avg_temp__C_\"]\n",
    "\n",
    "for field in fields_to_keep:\n",
    "    fm = arcpy.FieldMap()\n",
    "    fm.addInputField(\"Counties_with_all_years\", field)\n",
    "    field_mappings.addFieldMap(fm)\n",
    "\n",
    "# 3. Creates the temperature shapefile\n",
    "arcpy.FeatureClassToFeatureClass_conversion(\n",
    "    \"Counties_with_all_years\",  \n",
    "    counties_with_weather,      \n",
    "    \"counties_yearly_temp.shp\", \n",
    "    where_clause=\"\",           \n",
    "    field_mapping=field_mappings\n",
    ")\n"
   ]
  },
  {
   "cell_type": "code",
   "execution_count": 91,
   "metadata": {},
   "outputs": [
    {
     "data": {
      "text/html": [
       "<div class='gpresult'><h2>Messages</h2><div id='messages' data-messages='[\"Start Time: 23 April 2025 12:22:54\",\"Succeeded at 23 April 2025 12:22:56 (Elapsed Time: 1.52 seconds)\"]' data-show='true'><div id = 'default' /></div></div>"
      ],
      "text/plain": [
       "<Result 'C:\\\\Users\\\\asus\\\\Desktop\\\\Project\\\\Data\\\\counties_with_weather\\\\counties_yearly_rain.shp'>"
      ]
     },
     "execution_count": 91,
     "metadata": {},
     "output_type": "execute_result"
    }
   ],
   "source": [
    "#Creating a county shapefile with yearly rain from year 2020-2024\n",
    "# 1. First creates a proper field mappings object\n",
    "field_mappings = arcpy.FieldMappings()\n",
    "\n",
    "# 2. Adds only the fields to keep\n",
    "fields_to_keep = [\"COUNTY\", \"Year\", \"CENTROID_X\", \"CENTROID_Y\", \"Shape_Area\", \"Avg_rain_mm_\"]\n",
    "\n",
    "for field in fields_to_keep:\n",
    "    fm = arcpy.FieldMap()\n",
    "    fm.addInputField(\"Counties_with_all_years\", field)\n",
    "    field_mappings.addFieldMap(fm)\n",
    "\n",
    "# 3. Creates the temperature shapefile\n",
    "arcpy.FeatureClassToFeatureClass_conversion(\n",
    "    \"Counties_with_all_years\",  \n",
    "    counties_with_weather,      \n",
    "    \"counties_yearly_rain.shp\", \n",
    "    where_clause=\"\",           \n",
    "    field_mapping=field_mappings\n",
    ")\n"
   ]
  },
  {
   "cell_type": "code",
   "execution_count": 90,
   "metadata": {},
   "outputs": [
    {
     "data": {
      "text/html": [
       "<div class='gpresult'><h2>Messages</h2><div id='messages' data-messages='[\"Start Time: 23 April 2025 12:22:40\",\"Succeeded at 23 April 2025 12:22:41 (Elapsed Time: 1.44 seconds)\"]' data-show='true'><div id = 'default' /></div></div>"
      ],
      "text/plain": [
       "<Result 'C:\\\\Users\\\\asus\\\\Desktop\\\\Project\\\\Data\\\\counties_with_weather\\\\counties_yearly_wind.shp'>"
      ]
     },
     "execution_count": 90,
     "metadata": {},
     "output_type": "execute_result"
    }
   ],
   "source": [
    "#Creating a county shapefile with yearly wind from year 2020-2024\n",
    "# 1. First creates a proper field mappings object\n",
    "field_mappings = arcpy.FieldMappings()\n",
    "\n",
    "# 2. Adds only the fields we want to keep\n",
    "fields_to_keep = [\"COUNTY\", \"Year\", \"CENTROID_X\", \"CENTROID_Y\", \"Shape_Area\", \"Avg_wind_knots_\"]\n",
    "\n",
    "for field in fields_to_keep:\n",
    "    fm = arcpy.FieldMap()\n",
    "    fm.addInputField(\"Counties_with_all_years\", field)\n",
    "    field_mappings.addFieldMap(fm)\n",
    "\n",
    "# 3.Creates the temperature shapefile\n",
    "arcpy.FeatureClassToFeatureClass_conversion(\n",
    "    \"Counties_with_all_years\",  \n",
    "    counties_with_weather,      \n",
    "    \"counties_yearly_wind.shp\", \n",
    "    where_clause=\"\",           \n",
    "    field_mapping=field_mappings\n",
    ")\n"
   ]
  },
  {
   "cell_type": "code",
   "execution_count": 93,
   "metadata": {},
   "outputs": [
    {
     "name": "stdout",
     "output_type": "stream",
     "text": [
      "Reprojected counties_with_weather.shp to WGS84 as counties_with_weather_WGS84.shp\n",
      "Reprojected counties_yearly_temp.shp to WGS84 as counties_yearly_temp_WGS84.shp\n",
      "Reprojected counties_yearly_rain.shp to WGS84 as counties_yearly_rain_WGS84.shp\n",
      "Reprojected counties_yearly_wind.shp to WGS84 as counties_yearly_wind_WGS84.shp\n"
     ]
    }
   ],
   "source": [
    "#Change coordinate system of all the weather shapefiles\n",
    "# Set workspace to your counties_with_weather folder\n",
    "workspace = os.path.join(project_root, \"Data\", \"counties_with_weather\")\n",
    "arcpy.env.workspace = workspace\n",
    "# Define the output coordinate system (WGS84)\n",
    "wgs84 = arcpy.SpatialReference(4326)  # WGS84 coordinate system\n",
    "\n",
    "# List all shapefiles to reproject\n",
    "shapefiles = [\n",
    "    \"counties_with_weather.shp\",\n",
    "    \"counties_yearly_temp.shp\",\n",
    "    \"counties_yearly_rain.shp\",\n",
    "    \"counties_yearly_wind.shp\"\n",
    "]\n",
    "\n",
    "# Reproject each shapefile\n",
    "for shp in shapefiles:\n",
    "    if arcpy.Exists(shp):\n",
    "        # Create output name (appends '_WGS84' to original name)\n",
    "        output_shp = os.path.splitext(shp)[0] + \"_WGS84.shp\"\n",
    "        \n",
    "        # Perform projection\n",
    "        arcpy.Project_management(\n",
    "            shp,\n",
    "            output_shp,\n",
    "            wgs84\n",
    "        )\n",
    "        print(f\"Reprojected {shp} to WGS84 as {output_shp}\")\n",
    "    else:\n",
    "        print(f\"Warning: {shp} not found in {workspace}\")"
   ]
  },
  {
   "cell_type": "code",
   "execution_count": null,
   "metadata": {},
   "outputs": [],
   "source": []
  }
 ],
 "metadata": {
  "kernelspec": {
   "display_name": "Python 3 (ipykernel)",
   "language": "python",
   "name": "python3"
  },
  "language_info": {
   "codemirror_mode": {
    "name": "ipython",
    "version": 3
   },
   "file_extension": ".py",
   "mimetype": "text/x-python",
   "name": "python",
   "nbconvert_exporter": "python",
   "pygments_lexer": "ipython3",
   "version": "3.9.16"
  }
 },
 "nbformat": 4,
 "nbformat_minor": 2
}
